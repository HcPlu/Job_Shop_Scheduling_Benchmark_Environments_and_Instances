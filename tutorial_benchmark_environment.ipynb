{
 "cells": [
  {
   "cell_type": "markdown",
   "id": "45746a85-ef2c-4df0-82e9-ed8a901eba84",
   "metadata": {},
   "source": [
    "# Job Shop Scheduling Benchmarking Environment"
   ]
  },
  {
   "cell_type": "markdown",
   "id": "79883758-0bf5-4e83-bd9c-9df3994b7f29",
   "metadata": {},
   "source": [
    "This notebook introduces an open-source GitHub repository designed to benchmark and solve a wide range of machine scheduling problems, with a focus on job shop scheduling (JSP) and related problem types. Developed to address the long-standing need for a comprehensive testing environment, this resource supports various problem configurations, including classical Job Shops (JSP), Flow Shops (FSP), Flexible Job Shops (FJSP), Assembly scheduling with dependencies (FAJSP), and Flexible Job Shops with Sequence-Dependent Setup Times (FJSP-SDST).\n",
    "\n",
    "This repository includes a diverse set of approaches, from traditional heuristics and meta-heuristics to exact solutions and advanced deep reinforcement learning techniques. With this environment, researchers, practitioners, and machine scheduling enthusiasts can experiment with and benchmark their methods, contributing to ongoing advancements in operations research and machine learning for scheduling applications.\n",
    "\n",
    "Let’s start by importing the required packages:"
   ]
  },
  {
   "cell_type": "code",
   "execution_count": 1,
   "id": "b5db17f9-d982-46c7-b8e0-b770edaeee61",
   "metadata": {},
   "outputs": [],
   "source": [
    "import random\n",
    "\n",
    "from plotting.drawer import plot_gantt_chart\n",
    "from data_parsers.parser_fjsp import parse_fjsp\n",
    "from scheduling_environment.jobShop import JobShop\n",
    "\n",
    "from solution_methods.helper_functions import load_job_shop_env, load_parameters\n",
    "from solution_methods.GA.src.initialization import initialize_run\n",
    "from solution_methods.GA.run_GA import run_GA\n",
    "from solution_methods.MILP.run_MILP import run_MILP\n",
    "from solution_methods.FJSP_DRL.run_FJSP_DRL import run_FJSP_DRL"
   ]
  },
  {
   "cell_type": "markdown",
   "id": "7b914394-1416-43a6-b822-ac360bf82cff",
   "metadata": {},
   "source": [
    "#### Environment Configuration"
   ]
  },
  {
   "cell_type": "markdown",
   "id": "8b1e913a-3677-4278-8cb6-cecb587566ff",
   "metadata": {},
   "source": [
    "We start by configuring the environment. For this, we provide a set of parsers that can be used to parse data files from various benchmarking instances from the literature to configure the JobShop environment. As many different sources of instances exist, the parsers parse the information from the data format into the data objectives from the benchmarking environment. You can find the parsers in the 'data_parsers' folder and can use them as follows:"
   ]
  },
  {
   "cell_type": "markdown",
   "id": "39f5c636-bf13-4fd2-b54c-7e185c4207f4",
   "metadata": {},
   "source": [
    "##### Instance Parsing:"
   ]
  },
  {
   "cell_type": "code",
   "execution_count": 2,
   "id": "cfc80ec5-a542-48ce-b743-1fcf0f9c8e66",
   "metadata": {},
   "outputs": [],
   "source": [
    "jobShopEnv = JobShop()\n",
    "jobShopEnv = parse_fjsp(jobShopEnv, '/fjsp/1_brandimarte/Mk02.fjs')"
   ]
  },
  {
   "cell_type": "markdown",
   "id": "b88f0afa-ef66-4ece-97fa-5980c99e85de",
   "metadata": {},
   "source": [
    "We also provide a 'helper function', that creates the JobShop() object, and selects based on the naming of the problem instance the right parser to be used:"
   ]
  },
  {
   "cell_type": "code",
   "execution_count": 3,
   "id": "8268e82d-935b-476e-bb45-c003c90c3f1b",
   "metadata": {},
   "outputs": [],
   "source": [
    "jobShopEnv = load_job_shop_env('/fjsp/1_brandimarte/Mk02.fjs')"
   ]
  },
  {
   "cell_type": "markdown",
   "id": "37c8335a-5f60-4071-bbaf-97eb9888611f",
   "metadata": {},
   "source": [
    "##### Object ineractions:"
   ]
  },
  {
   "cell_type": "markdown",
   "id": "7557fcf3-82e5-4538-b0e3-e40bfcdb4559",
   "metadata": {},
   "source": [
    "We can now interact with the jobShopEnv to inspect its job, operation and machine objects, and make use of scheduling operators to schedule different operations within the environment. "
   ]
  },
  {
   "cell_type": "code",
   "execution_count": 4,
   "id": "d613d163-d710-4450-b82f-e39e1d04d0e8",
   "metadata": {},
   "outputs": [
    {
     "name": "stdout",
     "output_type": "stream",
     "text": [
      "Job Shop Environment:\n",
      "<JobShop(instance='/fjsp/1_brandimarte/Mk02.fjs', jobs=10, operations=58, machines=6)>\n"
     ]
    }
   ],
   "source": [
    "# Display the Job Shop Environment information\n",
    "print('Job Shop Environment:')\n",
    "print(jobShopEnv)"
   ]
  },
  {
   "cell_type": "code",
   "execution_count": 5,
   "id": "9365c11d-a1ff-46b4-a3dd-742d83b1a794",
   "metadata": {},
   "outputs": [
    {
     "name": "stdout",
     "output_type": "stream",
     "text": [
      "With the following Jobs:\n",
      "[<Job(job_id=0)>, <Job(job_id=1)>, <Job(job_id=2)>, <Job(job_id=3)>, <Job(job_id=4)>, <Job(job_id=5)>, <Job(job_id=6)>, <Job(job_id=7)>, <Job(job_id=8)>, <Job(job_id=9)>]\n"
     ]
    }
   ],
   "source": [
    "# Display the list of jobs in the environment\n",
    "print('With the following Jobs:')\n",
    "print(jobShopEnv.jobs)"
   ]
  },
  {
   "cell_type": "code",
   "execution_count": 6,
   "id": "26c3c276-6ac0-4925-b1bb-b926d628b890",
   "metadata": {},
   "outputs": [
    {
     "name": "stdout",
     "output_type": "stream",
     "text": [
      "Where the first job (job_id=0) has the following operations:\n",
      "[<Operation(job_id=0, operation_id=0)>, <Operation(job_id=0, operation_id=1)>, <Operation(job_id=0, operation_id=2)>, <Operation(job_id=0, operation_id=3)>, <Operation(job_id=0, operation_id=4)>, <Operation(job_id=0, operation_id=5)>]\n"
     ]
    }
   ],
   "source": [
    "# Display the operations of the first job (job_id=0)\n",
    "print('Where the first job (job_id=0) has the following operations:')\n",
    "job = jobShopEnv.get_job(job_id=0)\n",
    "print(job.operations)"
   ]
  },
  {
   "cell_type": "markdown",
   "id": "1dc45fc9-7697-4860-b457-971b6c838467",
   "metadata": {},
   "source": [
    "#### Starting to schedule"
   ]
  },
  {
   "cell_type": "markdown",
   "id": "80ef96fc-5bc7-475d-9343-b32e17284393",
   "metadata": {},
   "source": [
    "We show how to ineract with the scheduling environment by building a simple 'scheduler'. This scheduler select randomly an operation to be scheduled from the set of operations that are available for scheduling"
   ]
  },
  {
   "cell_type": "code",
   "execution_count": 10,
   "id": "ea2695f3-f9dc-4b48-8c4e-e48e84ba879d",
   "metadata": {},
   "outputs": [
    {
     "name": "stdout",
     "output_type": "stream",
     "text": [
      "Makespan: 1841\n"
     ]
    }
   ],
   "source": [
    "jobShopEnv.update_operations_available_for_scheduling()\n",
    "while len(jobShopEnv.operations_to_be_scheduled) > 0:\n",
    "    operation = random.choice(jobShopEnv.operations_available_for_scheduling)\n",
    "    machine_id = random.choice(list(operation.processing_times.keys()))\n",
    "    duration = operation.processing_times[machine_id]\n",
    "    jobShopEnv.schedule_operation_on_machine(operation, machine_id, duration)\n",
    "    jobShopEnv.update_operations_available_for_scheduling()\n",
    "\n",
    "print('Makespan:', jobShopEnv.makespan)"
   ]
  },
  {
   "cell_type": "markdown",
   "id": "8e5e4dd9-5db1-40e0-beb8-d618983dfd13",
   "metadata": {},
   "source": [
    "The solution is generated with the jobShopEnv.schedule_operation_on_machine(operation, machine_id, duration) function. This function schedules an operation on the specified machine by adding it after the last operation that has already been scheduled on that machine.\n",
    "\n",
    "Other functions to schedule operations are also provided, such as:\n",
    "\n",
    "- jobShopEnv.schedule_operation_with_backfilling(operation, machine_id, duration)\n",
    "\n",
    "This function schedules an operation at the earliest possible time with backfilling. It checks if there is an earlier gap in the schedule where the operation can be performed. If a suitable gap is found, the operation is scheduled to make use of unused time, resulting in a more efficient schedule. Backfilling allows the system to maximize machine utilization by filling in idle periods between operations.\n",
    "\n",
    "- jobShopEnv.schedule_operation_on_machine_at_time(operation, machine_id, start_time, duration)\n",
    "\n",
    "This function schedules an operation on a specified machine at a given start time. It ensures that the operation is placed at the exact time specified, taking into account any necessary setup times or constraints. This method provides more control over the scheduling process when a specific time is required for the operation to begin."
   ]
  },
  {
   "cell_type": "markdown",
   "id": "1b9160c4-0560-447b-8e4a-42f24acd4324",
   "metadata": {},
   "source": [
    "##### Plotting solution"
   ]
  },
  {
   "cell_type": "markdown",
   "id": "d662bb2f-54d0-430e-85ea-6dcc6c62a652",
   "metadata": {},
   "source": [
    "After a schedule is obtained, we can pass the jobShopEnvironment to a plotting function, to plot the found solution:"
   ]
  },
  {
   "cell_type": "code",
   "execution_count": 11,
   "id": "eaf26fa6-4aa6-4ae9-a5f4-934315ea7f4d",
   "metadata": {},
   "outputs": [
    {
     "data": {
      "image/png": "[encoded data removed]",
      "text/plain": [
       "<Figure size 1200x600 with 1 Axes>"
      ]
     },
     "metadata": {},
     "output_type": "display_data"
    }
   ],
   "source": [
    "plot_gantt_chart(jobShopEnv);"
   ]
  },
  {
   "cell_type": "markdown",
   "id": "8369c406-656b-4bd6-a92e-1be90f10534a",
   "metadata": {},
   "source": [
    "### Solution Methods"
   ]
  },
  {
   "cell_type": "markdown",
   "id": "a28aea62-2894-4d72-b68d-028df04f70ea",
   "metadata": {},
   "source": [
    "The methods used to address variants of the Job Shop Scheduling Problem (JSP) can be broadly categorized into three main groups: \n",
    "\n",
    "- Exact Algorithms\n",
    "- Heuristic Algorithms\n",
    "- Machine Learning Approaches\n",
    "\n",
    "In this project, we have implemented a variety of methods from each of these categories in a standardized way. This allows users to configure their problem environment and pass it to the appropriate solution method. Below, we provide a few examples demonstrating how the solution methods interact with the configured problem environments.\n",
    "\n",
    "The parameters for different solution methods are specified in configuration files (.toml), which are located in the 'configs' directory. These files define the problem instance to be solved as well as the associated parameters for solving it. In the 'custom_problem_instance' tutorial, we show how these parameters can be included directly in the code, bypassing the need for a parameter .toml file."
   ]
  },
  {
   "cell_type": "markdown",
   "id": "72cfa944-5839-42d3-9f34-85a314aa26e6",
   "metadata": {},
   "source": [
    "#### Dispatching Rules"
   ]
  },
  {
   "cell_type": "markdown",
   "id": "4105d217-ad08-49a2-8093-119a740212ad",
   "metadata": {},
   "source": [
    "TODO; will be included shortly in here :-)"
   ]
  },
  {
   "cell_type": "markdown",
   "id": "fe11b158-68db-480d-a5da-dec6a3dff820",
   "metadata": {},
   "source": [
    "#### Genetic Algorithm    "
   ]
  },
  {
   "cell_type": "code",
   "execution_count": 12,
   "id": "189a1d39-2988-4ba0-a881-572173a43098",
   "metadata": {},
   "outputs": [
    {
     "name": "stderr",
     "output_type": "stream",
     "text": [
      "INFO:root:gen\tavg     \tstd           \tmin    \tmax    \n",
      "0  \t[2320.1]\t[215.99002292]\t[1992.]\t[2694.]\n",
      "INFO:root:\n",
      "INFO:root:1  \t[2162.1]\t[194.15429431]\t[1992.]\t[2660.]\n",
      "INFO:root:2  \t[2085.] \t[95.70997858] \t[1992.]\t[2275.]\n",
      "INFO:root:3  \t[2065.1]\t[95.27271383] \t[1992.]\t[2309.]\n",
      "INFO:root:4  \t[2075.6]\t[63.54714785] \t[1992.]\t[2156.]\n",
      "INFO:root:5  \t[2055.3]\t[123.15685121]\t[1992.]\t[2421.]\n",
      "INFO:root:6  \t[1985.] \t[47.84349486] \t[1892.]\t[2018.]\n",
      "INFO:root:7  \t[1985.] \t[47.84349486] \t[1892.]\t[2018.]\n",
      "INFO:root:8  \t[1993.5]\t[99.77900581] \t[1892.]\t[2257.]\n",
      "INFO:root:9  \t[2030.4]\t[157.65671568]\t[1892.]\t[2335.]\n",
      "INFO:root:10 \t[1994.] \t[125.92775707]\t[1892.]\t[2335.]\n",
      "INFO:root:Makespan: 1892\n"
     ]
    },
    {
     "data": {
      "image/png": "[encoded data removed]",
      "text/plain": [
       "<Figure size 1200x600 with 1 Axes>"
      ]
     },
     "metadata": {},
     "output_type": "display_data"
    }
   ],
   "source": [
    "parameters = load_parameters(\"configs/GA.toml\")\n",
    "jobShopEnv = load_job_shop_env(parameters['instance'].get('problem_instance'))\n",
    "\n",
    "population, toolbox, stats, hof = initialize_run(jobShopEnv, **parameters)\n",
    "makespan, jobShopEnv = run_GA(jobShopEnv, population, toolbox, stats, hof, **parameters)\n",
    "\n",
    "plot_gantt_chart(jobShopEnv);"
   ]
  },
  {
   "cell_type": "markdown",
   "id": "5d32ee19-62c0-4116-875f-e8675f08b3f7",
   "metadata": {},
   "source": [
    "#### Mixed-Interger Linear Programming"
   ]
  },
  {
   "cell_type": "code",
   "execution_count": 13,
   "id": "a962b096-f199-4c7b-aa34-6c99519d8ed2",
   "metadata": {},
   "outputs": [
    {
     "name": "stdout",
     "output_type": "stream",
     "text": [
      "Set parameter Username\n"
     ]
    },
    {
     "name": "stderr",
     "output_type": "stream",
     "text": [
      "INFO:gurobipy:Set parameter Username\n"
     ]
    },
    {
     "name": "stdout",
     "output_type": "stream",
     "text": [
      "Academic license - for non-commercial use only - expires 2025-11-07\n"
     ]
    },
    {
     "name": "stderr",
     "output_type": "stream",
     "text": [
      "INFO:gurobipy:Academic license - for non-commercial use only - expires 2025-11-07\n"
     ]
    },
    {
     "name": "stdout",
     "output_type": "stream",
     "text": [
      "Set parameter TimeLimit to value 3600\n"
     ]
    },
    {
     "name": "stderr",
     "output_type": "stream",
     "text": [
      "INFO:gurobipy:Set parameter TimeLimit to value 3600\n"
     ]
    },
    {
     "name": "stdout",
     "output_type": "stream",
     "text": [
      "Gurobi Optimizer version 11.0.3 build v11.0.3rc0 (win64 - Windows 10.0 (19045.2))\n"
     ]
    },
    {
     "name": "stderr",
     "output_type": "stream",
     "text": [
      "INFO:gurobipy:Gurobi Optimizer version 11.0.3 build v11.0.3rc0 (win64 - Windows 10.0 (19045.2))\n"
     ]
    },
    {
     "name": "stdout",
     "output_type": "stream",
     "text": [
      "\n"
     ]
    },
    {
     "name": "stderr",
     "output_type": "stream",
     "text": [
      "INFO:gurobipy:\n"
     ]
    },
    {
     "name": "stdout",
     "output_type": "stream",
     "text": [
      "CPU model: Intel(R) Core(TM) i7-9750H CPU @ 2.60GHz, instruction set [SSE2|AVX|AVX2]\n"
     ]
    },
    {
     "name": "stderr",
     "output_type": "stream",
     "text": [
      "INFO:gurobipy:CPU model: Intel(R) Core(TM) i7-9750H CPU @ 2.60GHz, instruction set [SSE2|AVX|AVX2]\n"
     ]
    },
    {
     "name": "stdout",
     "output_type": "stream",
     "text": [
      "Thread count: 6 physical cores, 12 logical processors, using up to 12 threads\n"
     ]
    },
    {
     "name": "stderr",
     "output_type": "stream",
     "text": [
      "INFO:gurobipy:Thread count: 6 physical cores, 12 logical processors, using up to 12 threads\n"
     ]
    },
    {
     "name": "stdout",
     "output_type": "stream",
     "text": [
      "\n"
     ]
    },
    {
     "name": "stderr",
     "output_type": "stream",
     "text": [
      "INFO:gurobipy:\n"
     ]
    },
    {
     "name": "stdout",
     "output_type": "stream",
     "text": [
      "Optimize a model with 1100 rows, 551 columns and 3000 nonzeros\n"
     ]
    },
    {
     "name": "stderr",
     "output_type": "stream",
     "text": [
      "INFO:gurobipy:Optimize a model with 1100 rows, 551 columns and 3000 nonzeros\n"
     ]
    },
    {
     "name": "stdout",
     "output_type": "stream",
     "text": [
      "Model fingerprint: 0xad5240b6\n"
     ]
    },
    {
     "name": "stderr",
     "output_type": "stream",
     "text": [
      "INFO:gurobipy:Model fingerprint: 0xad5240b6\n"
     ]
    },
    {
     "name": "stdout",
     "output_type": "stream",
     "text": [
      "Variable types: 1 continuous, 550 integer (450 binary)\n"
     ]
    },
    {
     "name": "stderr",
     "output_type": "stream",
     "text": [
      "INFO:gurobipy:Variable types: 1 continuous, 550 integer (450 binary)\n"
     ]
    },
    {
     "name": "stdout",
     "output_type": "stream",
     "text": [
      "Coefficient statistics:\n"
     ]
    },
    {
     "name": "stderr",
     "output_type": "stream",
     "text": [
      "INFO:gurobipy:Coefficient statistics:\n"
     ]
    },
    {
     "name": "stdout",
     "output_type": "stream",
     "text": [
      "  Matrix range     [1e+00, 8e+03]\n"
     ]
    },
    {
     "name": "stderr",
     "output_type": "stream",
     "text": [
      "INFO:gurobipy:  Matrix range     [1e+00, 8e+03]\n"
     ]
    },
    {
     "name": "stdout",
     "output_type": "stream",
     "text": [
      "  Objective range  [1e+00, 1e+00]\n"
     ]
    },
    {
     "name": "stderr",
     "output_type": "stream",
     "text": [
      "INFO:gurobipy:  Objective range  [1e+00, 1e+00]\n"
     ]
    },
    {
     "name": "stdout",
     "output_type": "stream",
     "text": [
      "  Bounds range     [1e+00, 1e+00]\n"
     ]
    },
    {
     "name": "stderr",
     "output_type": "stream",
     "text": [
      "INFO:gurobipy:  Bounds range     [1e+00, 1e+00]\n"
     ]
    },
    {
     "name": "stdout",
     "output_type": "stream",
     "text": [
      "  RHS range        [5e+01, 8e+03]\n"
     ]
    },
    {
     "name": "stderr",
     "output_type": "stream",
     "text": [
      "INFO:gurobipy:  RHS range        [5e+01, 8e+03]\n"
     ]
    },
    {
     "name": "stdout",
     "output_type": "stream",
     "text": [
      "Presolve removed 100 rows and 0 columns\n"
     ]
    },
    {
     "name": "stderr",
     "output_type": "stream",
     "text": [
      "INFO:gurobipy:Presolve removed 100 rows and 0 columns\n"
     ]
    },
    {
     "name": "stdout",
     "output_type": "stream",
     "text": [
      "Presolve time: 0.01s\n"
     ]
    },
    {
     "name": "stderr",
     "output_type": "stream",
     "text": [
      "INFO:gurobipy:Presolve time: 0.01s\n"
     ]
    },
    {
     "name": "stdout",
     "output_type": "stream",
     "text": [
      "Presolved: 1000 rows, 551 columns, 2900 nonzeros\n"
     ]
    },
    {
     "name": "stderr",
     "output_type": "stream",
     "text": [
      "INFO:gurobipy:Presolved: 1000 rows, 551 columns, 2900 nonzeros\n"
     ]
    },
    {
     "name": "stdout",
     "output_type": "stream",
     "text": [
      "Variable types: 0 continuous, 551 integer (450 binary)\n"
     ]
    },
    {
     "name": "stderr",
     "output_type": "stream",
     "text": [
      "INFO:gurobipy:Variable types: 0 continuous, 551 integer (450 binary)\n"
     ]
    },
    {
     "name": "stdout",
     "output_type": "stream",
     "text": [
      "\n"
     ]
    },
    {
     "name": "stderr",
     "output_type": "stream",
     "text": [
      "INFO:gurobipy:\n"
     ]
    },
    {
     "name": "stdout",
     "output_type": "stream",
     "text": [
      "Root relaxation: objective 8.590000e+02, 269 iterations, 0.00 seconds (0.00 work units)\n"
     ]
    },
    {
     "name": "stderr",
     "output_type": "stream",
     "text": [
      "INFO:gurobipy:Root relaxation: objective 8.590000e+02, 269 iterations, 0.00 seconds (0.00 work units)\n"
     ]
    },
    {
     "name": "stdout",
     "output_type": "stream",
     "text": [
      "\n"
     ]
    },
    {
     "name": "stderr",
     "output_type": "stream",
     "text": [
      "INFO:gurobipy:\n"
     ]
    },
    {
     "name": "stdout",
     "output_type": "stream",
     "text": [
      "    Nodes    |    Current Node    |     Objective Bounds      |     Work\n"
     ]
    },
    {
     "name": "stderr",
     "output_type": "stream",
     "text": [
      "INFO:gurobipy:    Nodes    |    Current Node    |     Objective Bounds      |     Work\n"
     ]
    },
    {
     "name": "stdout",
     "output_type": "stream",
     "text": [
      " Expl Unexpl |  Obj  Depth IntInf | Incumbent    BestBd   Gap | It/Node Time\n"
     ]
    },
    {
     "name": "stderr",
     "output_type": "stream",
     "text": [
      "INFO:gurobipy: Expl Unexpl |  Obj  Depth IntInf | Incumbent    BestBd   Gap | It/Node Time\n"
     ]
    },
    {
     "name": "stdout",
     "output_type": "stream",
     "text": [
      "\n"
     ]
    },
    {
     "name": "stderr",
     "output_type": "stream",
     "text": [
      "INFO:gurobipy:\n"
     ]
    },
    {
     "name": "stdout",
     "output_type": "stream",
     "text": [
      "     0     0  859.00000    0   73          -  859.00000      -     -    0s\n"
     ]
    },
    {
     "name": "stderr",
     "output_type": "stream",
     "text": [
      "INFO:gurobipy:     0     0  859.00000    0   73          -  859.00000      -     -    0s\n"
     ]
    },
    {
     "name": "stdout",
     "output_type": "stream",
     "text": [
      "H    0     0                    1550.0000000  859.00000  44.6%     -    0s\n"
     ]
    },
    {
     "name": "stderr",
     "output_type": "stream",
     "text": [
      "INFO:gurobipy:H    0     0                    1550.0000000  859.00000  44.6%     -    0s\n"
     ]
    },
    {
     "name": "stdout",
     "output_type": "stream",
     "text": [
      "H    0     0                    1538.0000000  859.00000  44.1%     -    0s\n"
     ]
    },
    {
     "name": "stderr",
     "output_type": "stream",
     "text": [
      "INFO:gurobipy:H    0     0                    1538.0000000  859.00000  44.1%     -    0s\n"
     ]
    },
    {
     "name": "stdout",
     "output_type": "stream",
     "text": [
      "H    0     0                    1522.0000000  957.51569  37.1%     -    0s\n"
     ]
    },
    {
     "name": "stderr",
     "output_type": "stream",
     "text": [
      "INFO:gurobipy:H    0     0                    1522.0000000  957.51569  37.1%     -    0s\n"
     ]
    },
    {
     "name": "stdout",
     "output_type": "stream",
     "text": [
      "H    0     0                    1521.0000000  957.51569  37.0%     -    0s\n"
     ]
    },
    {
     "name": "stderr",
     "output_type": "stream",
     "text": [
      "INFO:gurobipy:H    0     0                    1521.0000000  957.51569  37.0%     -    0s\n"
     ]
    },
    {
     "name": "stdout",
     "output_type": "stream",
     "text": [
      "     0     0  957.51569    0  176 1521.00000  957.51569  37.0%     -    0s\n"
     ]
    },
    {
     "name": "stderr",
     "output_type": "stream",
     "text": [
      "INFO:gurobipy:     0     0  957.51569    0  176 1521.00000  957.51569  37.0%     -    0s\n"
     ]
    },
    {
     "name": "stdout",
     "output_type": "stream",
     "text": [
      "H    0     0                    1490.0000000  957.51569  35.7%     -    0s\n"
     ]
    },
    {
     "name": "stderr",
     "output_type": "stream",
     "text": [
      "INFO:gurobipy:H    0     0                    1490.0000000  957.51569  35.7%     -    0s\n"
     ]
    },
    {
     "name": "stdout",
     "output_type": "stream",
     "text": [
      "     0     0  963.00000    0   97 1490.00000  963.00000  35.4%     -    0s\n"
     ]
    },
    {
     "name": "stderr",
     "output_type": "stream",
     "text": [
      "INFO:gurobipy:     0     0  963.00000    0   97 1490.00000  963.00000  35.4%     -    0s\n"
     ]
    },
    {
     "name": "stdout",
     "output_type": "stream",
     "text": [
      "     0     0  963.00000    0  101 1490.00000  963.00000  35.4%     -    0s\n"
     ]
    },
    {
     "name": "stderr",
     "output_type": "stream",
     "text": [
      "INFO:gurobipy:     0     0  963.00000    0  101 1490.00000  963.00000  35.4%     -    0s\n"
     ]
    },
    {
     "name": "stdout",
     "output_type": "stream",
     "text": [
      "H    0     0                    1441.0000000  963.00000  33.2%     -    0s\n"
     ]
    },
    {
     "name": "stderr",
     "output_type": "stream",
     "text": [
      "INFO:gurobipy:H    0     0                    1441.0000000  963.00000  33.2%     -    0s\n"
     ]
    },
    {
     "name": "stdout",
     "output_type": "stream",
     "text": [
      "     0     0  972.32133    0  164 1441.00000  972.32133  32.5%     -    0s\n"
     ]
    },
    {
     "name": "stderr",
     "output_type": "stream",
     "text": [
      "INFO:gurobipy:     0     0  972.32133    0  164 1441.00000  972.32133  32.5%     -    0s\n"
     ]
    },
    {
     "name": "stdout",
     "output_type": "stream",
     "text": [
      "     0     0  972.75381    0  157 1441.00000  972.75381  32.5%     -    0s\n"
     ]
    },
    {
     "name": "stderr",
     "output_type": "stream",
     "text": [
      "INFO:gurobipy:     0     0  972.75381    0  157 1441.00000  972.75381  32.5%     -    0s\n"
     ]
    },
    {
     "name": "stdout",
     "output_type": "stream",
     "text": [
      "     0     0  972.75381    0  155 1441.00000  972.75381  32.5%     -    0s\n"
     ]
    },
    {
     "name": "stderr",
     "output_type": "stream",
     "text": [
      "INFO:gurobipy:     0     0  972.75381    0  155 1441.00000  972.75381  32.5%     -    0s\n"
     ]
    },
    {
     "name": "stdout",
     "output_type": "stream",
     "text": [
      "H    0     0                    1440.0000000  987.17883  31.4%     -    0s\n"
     ]
    },
    {
     "name": "stderr",
     "output_type": "stream",
     "text": [
      "INFO:gurobipy:H    0     0                    1440.0000000  987.17883  31.4%     -    0s\n"
     ]
    },
    {
     "name": "stdout",
     "output_type": "stream",
     "text": [
      "H    0     0                    1423.0000000  987.17883  30.6%     -    0s\n"
     ]
    },
    {
     "name": "stderr",
     "output_type": "stream",
     "text": [
      "INFO:gurobipy:H    0     0                    1423.0000000  987.17883  30.6%     -    0s\n"
     ]
    },
    {
     "name": "stdout",
     "output_type": "stream",
     "text": [
      "     0     0  987.17883    0  164 1423.00000  987.17883  30.6%     -    0s\n"
     ]
    },
    {
     "name": "stderr",
     "output_type": "stream",
     "text": [
      "INFO:gurobipy:     0     0  987.17883    0  164 1423.00000  987.17883  30.6%     -    0s\n"
     ]
    },
    {
     "name": "stdout",
     "output_type": "stream",
     "text": [
      "     0     0  987.36665    0  164 1423.00000  987.36665  30.6%     -    0s\n"
     ]
    },
    {
     "name": "stderr",
     "output_type": "stream",
     "text": [
      "INFO:gurobipy:     0     0  987.36665    0  164 1423.00000  987.36665  30.6%     -    0s\n"
     ]
    },
    {
     "name": "stdout",
     "output_type": "stream",
     "text": [
      "     0     0  987.57037    0  162 1423.00000  987.57037  30.6%     -    0s\n"
     ]
    },
    {
     "name": "stderr",
     "output_type": "stream",
     "text": [
      "INFO:gurobipy:     0     0  987.57037    0  162 1423.00000  987.57037  30.6%     -    0s\n"
     ]
    },
    {
     "name": "stdout",
     "output_type": "stream",
     "text": [
      "     0     0  987.57037    0  165 1423.00000  987.57037  30.6%     -    0s\n"
     ]
    },
    {
     "name": "stderr",
     "output_type": "stream",
     "text": [
      "INFO:gurobipy:     0     0  987.57037    0  165 1423.00000  987.57037  30.6%     -    0s\n"
     ]
    },
    {
     "name": "stdout",
     "output_type": "stream",
     "text": [
      "H    0     0                    1422.0000000  987.57037  30.6%     -    0s\n"
     ]
    },
    {
     "name": "stderr",
     "output_type": "stream",
     "text": [
      "INFO:gurobipy:H    0     0                    1422.0000000  987.57037  30.6%     -    0s\n"
     ]
    },
    {
     "name": "stdout",
     "output_type": "stream",
     "text": [
      "H    0     0                    1417.0000000  987.57037  30.3%     -    0s\n"
     ]
    },
    {
     "name": "stderr",
     "output_type": "stream",
     "text": [
      "INFO:gurobipy:H    0     0                    1417.0000000  987.57037  30.3%     -    0s\n"
     ]
    },
    {
     "name": "stdout",
     "output_type": "stream",
     "text": [
      "H    0     0                    1416.0000000  991.87494  30.0%     -    0s\n"
     ]
    },
    {
     "name": "stderr",
     "output_type": "stream",
     "text": [
      "INFO:gurobipy:H    0     0                    1416.0000000  991.87494  30.0%     -    0s\n"
     ]
    },
    {
     "name": "stdout",
     "output_type": "stream",
     "text": [
      "H    0     0                    1415.0000000  991.87494  29.9%     -    0s\n"
     ]
    },
    {
     "name": "stderr",
     "output_type": "stream",
     "text": [
      "INFO:gurobipy:H    0     0                    1415.0000000  991.87494  29.9%     -    0s\n"
     ]
    },
    {
     "name": "stdout",
     "output_type": "stream",
     "text": [
      "     0     0  991.87494    0  162 1415.00000  991.87494  29.9%     -    0s\n"
     ]
    },
    {
     "name": "stderr",
     "output_type": "stream",
     "text": [
      "INFO:gurobipy:     0     0  991.87494    0  162 1415.00000  991.87494  29.9%     -    0s\n"
     ]
    },
    {
     "name": "stdout",
     "output_type": "stream",
     "text": [
      "     0     0  992.28689    0  167 1415.00000  992.28689  29.9%     -    0s\n"
     ]
    },
    {
     "name": "stderr",
     "output_type": "stream",
     "text": [
      "INFO:gurobipy:     0     0  992.28689    0  167 1415.00000  992.28689  29.9%     -    0s\n"
     ]
    },
    {
     "name": "stdout",
     "output_type": "stream",
     "text": [
      "     0     0  992.32802    0  168 1415.00000  992.32802  29.9%     -    0s\n"
     ]
    },
    {
     "name": "stderr",
     "output_type": "stream",
     "text": [
      "INFO:gurobipy:     0     0  992.32802    0  168 1415.00000  992.32802  29.9%     -    0s\n"
     ]
    },
    {
     "name": "stdout",
     "output_type": "stream",
     "text": [
      "H    0     0                    1413.0000000  992.32802  29.8%     -    0s\n"
     ]
    },
    {
     "name": "stderr",
     "output_type": "stream",
     "text": [
      "INFO:gurobipy:H    0     0                    1413.0000000  992.32802  29.8%     -    0s\n"
     ]
    },
    {
     "name": "stdout",
     "output_type": "stream",
     "text": [
      "H    0     0                    1398.0000000  992.32802  29.0%     -    0s\n"
     ]
    },
    {
     "name": "stderr",
     "output_type": "stream",
     "text": [
      "INFO:gurobipy:H    0     0                    1398.0000000  992.32802  29.0%     -    0s\n"
     ]
    },
    {
     "name": "stdout",
     "output_type": "stream",
     "text": [
      "     0     0  992.39527    0  172 1398.00000  992.39527  29.0%     -    0s\n"
     ]
    },
    {
     "name": "stderr",
     "output_type": "stream",
     "text": [
      "INFO:gurobipy:     0     0  992.39527    0  172 1398.00000  992.39527  29.0%     -    0s\n"
     ]
    },
    {
     "name": "stdout",
     "output_type": "stream",
     "text": [
      "H    0     0                    1391.0000000  993.57533  28.6%     -    0s\n"
     ]
    },
    {
     "name": "stderr",
     "output_type": "stream",
     "text": [
      "INFO:gurobipy:H    0     0                    1391.0000000  993.57533  28.6%     -    0s\n"
     ]
    },
    {
     "name": "stdout",
     "output_type": "stream",
     "text": [
      "     0     0  993.57533    0  167 1391.00000  993.57533  28.6%     -    0s\n"
     ]
    },
    {
     "name": "stderr",
     "output_type": "stream",
     "text": [
      "INFO:gurobipy:     0     0  993.57533    0  167 1391.00000  993.57533  28.6%     -    0s\n"
     ]
    },
    {
     "name": "stdout",
     "output_type": "stream",
     "text": [
      "     0     0  993.57533    0  167 1391.00000  993.57533  28.6%     -    0s\n"
     ]
    },
    {
     "name": "stderr",
     "output_type": "stream",
     "text": [
      "INFO:gurobipy:     0     0  993.57533    0  167 1391.00000  993.57533  28.6%     -    0s\n"
     ]
    },
    {
     "name": "stdout",
     "output_type": "stream",
     "text": [
      "H    0     0                    1390.0000000  993.57533  28.5%     -    0s\n"
     ]
    },
    {
     "name": "stderr",
     "output_type": "stream",
     "text": [
      "INFO:gurobipy:H    0     0                    1390.0000000  993.57533  28.5%     -    0s\n"
     ]
    },
    {
     "name": "stdout",
     "output_type": "stream",
     "text": [
      "     0     0  993.57533    0  171 1390.00000  993.57533  28.5%     -    0s\n"
     ]
    },
    {
     "name": "stderr",
     "output_type": "stream",
     "text": [
      "INFO:gurobipy:     0     0  993.57533    0  171 1390.00000  993.57533  28.5%     -    0s\n"
     ]
    },
    {
     "name": "stdout",
     "output_type": "stream",
     "text": [
      "     0     0  993.63743    0  168 1390.00000  993.63743  28.5%     -    0s\n"
     ]
    },
    {
     "name": "stderr",
     "output_type": "stream",
     "text": [
      "INFO:gurobipy:     0     0  993.63743    0  168 1390.00000  993.63743  28.5%     -    0s\n"
     ]
    },
    {
     "name": "stdout",
     "output_type": "stream",
     "text": [
      "H    0     0                    1389.0000000  993.64122  28.5%     -    0s\n"
     ]
    },
    {
     "name": "stderr",
     "output_type": "stream",
     "text": [
      "INFO:gurobipy:H    0     0                    1389.0000000  993.64122  28.5%     -    0s\n"
     ]
    },
    {
     "name": "stdout",
     "output_type": "stream",
     "text": [
      "     0     0  994.46460    0  163 1389.00000  994.46460  28.4%     -    0s\n"
     ]
    },
    {
     "name": "stderr",
     "output_type": "stream",
     "text": [
      "INFO:gurobipy:     0     0  994.46460    0  163 1389.00000  994.46460  28.4%     -    0s\n"
     ]
    },
    {
     "name": "stdout",
     "output_type": "stream",
     "text": [
      "     0     0  994.99412    0  164 1389.00000  994.99412  28.4%     -    0s\n"
     ]
    },
    {
     "name": "stderr",
     "output_type": "stream",
     "text": [
      "INFO:gurobipy:     0     0  994.99412    0  164 1389.00000  994.99412  28.4%     -    0s\n"
     ]
    },
    {
     "name": "stdout",
     "output_type": "stream",
     "text": [
      "     0     0  995.16299    0  164 1389.00000  995.16299  28.4%     -    0s\n"
     ]
    },
    {
     "name": "stderr",
     "output_type": "stream",
     "text": [
      "INFO:gurobipy:     0     0  995.16299    0  164 1389.00000  995.16299  28.4%     -    0s\n"
     ]
    },
    {
     "name": "stdout",
     "output_type": "stream",
     "text": [
      "     0     0  995.20157    0  170 1389.00000  995.20157  28.4%     -    0s\n"
     ]
    },
    {
     "name": "stderr",
     "output_type": "stream",
     "text": [
      "INFO:gurobipy:     0     0  995.20157    0  170 1389.00000  995.20157  28.4%     -    0s\n"
     ]
    },
    {
     "name": "stdout",
     "output_type": "stream",
     "text": [
      "H    0     0                    1378.0000000  996.12097  27.7%     -    0s\n"
     ]
    },
    {
     "name": "stderr",
     "output_type": "stream",
     "text": [
      "INFO:gurobipy:H    0     0                    1378.0000000  996.12097  27.7%     -    0s\n"
     ]
    },
    {
     "name": "stdout",
     "output_type": "stream",
     "text": [
      "     0     0  996.12097    0  168 1378.00000  996.12097  27.7%     -    0s\n"
     ]
    },
    {
     "name": "stderr",
     "output_type": "stream",
     "text": [
      "INFO:gurobipy:     0     0  996.12097    0  168 1378.00000  996.12097  27.7%     -    0s\n"
     ]
    },
    {
     "name": "stdout",
     "output_type": "stream",
     "text": [
      "H    0     0                    1377.0000000  996.35259  27.6%     -    0s\n"
     ]
    },
    {
     "name": "stderr",
     "output_type": "stream",
     "text": [
      "INFO:gurobipy:H    0     0                    1377.0000000  996.35259  27.6%     -    0s\n"
     ]
    },
    {
     "name": "stdout",
     "output_type": "stream",
     "text": [
      "     0     0  996.52745    0  169 1377.00000  996.52745  27.6%     -    0s\n"
     ]
    },
    {
     "name": "stderr",
     "output_type": "stream",
     "text": [
      "INFO:gurobipy:     0     0  996.52745    0  169 1377.00000  996.52745  27.6%     -    0s\n"
     ]
    },
    {
     "name": "stdout",
     "output_type": "stream",
     "text": [
      "     0     0  996.52946    0  167 1377.00000  996.52946  27.6%     -    0s\n"
     ]
    },
    {
     "name": "stderr",
     "output_type": "stream",
     "text": [
      "INFO:gurobipy:     0     0  996.52946    0  167 1377.00000  996.52946  27.6%     -    0s\n"
     ]
    },
    {
     "name": "stdout",
     "output_type": "stream",
     "text": [
      "     0     0  996.80329    0  173 1377.00000  996.80329  27.6%     -    0s\n"
     ]
    },
    {
     "name": "stderr",
     "output_type": "stream",
     "text": [
      "INFO:gurobipy:     0     0  996.80329    0  173 1377.00000  996.80329  27.6%     -    0s\n"
     ]
    },
    {
     "name": "stdout",
     "output_type": "stream",
     "text": [
      "H    0     0                    1362.0000000  997.00000  26.8%     -    0s\n"
     ]
    },
    {
     "name": "stderr",
     "output_type": "stream",
     "text": [
      "INFO:gurobipy:H    0     0                    1362.0000000  997.00000  26.8%     -    0s\n"
     ]
    },
    {
     "name": "stdout",
     "output_type": "stream",
     "text": [
      "H    0     0                    1344.0000000  997.00000  25.8%     -    0s\n"
     ]
    },
    {
     "name": "stderr",
     "output_type": "stream",
     "text": [
      "INFO:gurobipy:H    0     0                    1344.0000000  997.00000  25.8%     -    0s\n"
     ]
    },
    {
     "name": "stdout",
     "output_type": "stream",
     "text": [
      "     0     0  997.00000    0  149 1344.00000  997.00000  25.8%     -    0s\n"
     ]
    },
    {
     "name": "stderr",
     "output_type": "stream",
     "text": [
      "INFO:gurobipy:     0     0  997.00000    0  149 1344.00000  997.00000  25.8%     -    0s\n"
     ]
    },
    {
     "name": "stdout",
     "output_type": "stream",
     "text": [
      "H    0     0                    1329.0000000  997.00000  25.0%     -    0s\n"
     ]
    },
    {
     "name": "stderr",
     "output_type": "stream",
     "text": [
      "INFO:gurobipy:H    0     0                    1329.0000000  997.00000  25.0%     -    0s\n"
     ]
    },
    {
     "name": "stdout",
     "output_type": "stream",
     "text": [
      "     0     0  997.00000    0  167 1329.00000  997.00000  25.0%     -    0s\n"
     ]
    },
    {
     "name": "stderr",
     "output_type": "stream",
     "text": [
      "INFO:gurobipy:     0     0  997.00000    0  167 1329.00000  997.00000  25.0%     -    0s\n"
     ]
    },
    {
     "name": "stdout",
     "output_type": "stream",
     "text": [
      "     0     0  997.00000    0  144 1329.00000  997.00000  25.0%     -    0s\n"
     ]
    },
    {
     "name": "stderr",
     "output_type": "stream",
     "text": [
      "INFO:gurobipy:     0     0  997.00000    0  144 1329.00000  997.00000  25.0%     -    0s\n"
     ]
    },
    {
     "name": "stdout",
     "output_type": "stream",
     "text": [
      "H    0     0                    1321.0000000  997.00000  24.5%     -    0s\n"
     ]
    },
    {
     "name": "stderr",
     "output_type": "stream",
     "text": [
      "INFO:gurobipy:H    0     0                    1321.0000000  997.00000  24.5%     -    0s\n"
     ]
    },
    {
     "name": "stdout",
     "output_type": "stream",
     "text": [
      "     0     0  997.00000    0  156 1321.00000  997.00000  24.5%     -    0s\n"
     ]
    },
    {
     "name": "stderr",
     "output_type": "stream",
     "text": [
      "INFO:gurobipy:     0     0  997.00000    0  156 1321.00000  997.00000  24.5%     -    0s\n"
     ]
    },
    {
     "name": "stdout",
     "output_type": "stream",
     "text": [
      "     0     0  997.00000    0  136 1321.00000  997.00000  24.5%     -    0s\n"
     ]
    },
    {
     "name": "stderr",
     "output_type": "stream",
     "text": [
      "INFO:gurobipy:     0     0  997.00000    0  136 1321.00000  997.00000  24.5%     -    0s\n"
     ]
    },
    {
     "name": "stdout",
     "output_type": "stream",
     "text": [
      "     0     0  997.00000    0  121 1321.00000  997.00000  24.5%     -    0s\n"
     ]
    },
    {
     "name": "stderr",
     "output_type": "stream",
     "text": [
      "INFO:gurobipy:     0     0  997.00000    0  121 1321.00000  997.00000  24.5%     -    0s\n"
     ]
    },
    {
     "name": "stdout",
     "output_type": "stream",
     "text": [
      "     0     0  997.00000    0  156 1321.00000  997.00000  24.5%     -    0s\n"
     ]
    },
    {
     "name": "stderr",
     "output_type": "stream",
     "text": [
      "INFO:gurobipy:     0     0  997.00000    0  156 1321.00000  997.00000  24.5%     -    0s\n"
     ]
    },
    {
     "name": "stdout",
     "output_type": "stream",
     "text": [
      "     0     0  997.00000    0   88 1321.00000  997.00000  24.5%     -    0s\n"
     ]
    },
    {
     "name": "stderr",
     "output_type": "stream",
     "text": [
      "INFO:gurobipy:     0     0  997.00000    0   88 1321.00000  997.00000  24.5%     -    0s\n"
     ]
    },
    {
     "name": "stdout",
     "output_type": "stream",
     "text": [
      "H    0     0                    1320.0000000  998.00000  24.4%     -    0s\n"
     ]
    },
    {
     "name": "stderr",
     "output_type": "stream",
     "text": [
      "INFO:gurobipy:H    0     0                    1320.0000000  998.00000  24.4%     -    0s\n"
     ]
    },
    {
     "name": "stdout",
     "output_type": "stream",
     "text": [
      "H    0     0                    1283.0000000  998.00000  22.2%     -    0s\n"
     ]
    },
    {
     "name": "stderr",
     "output_type": "stream",
     "text": [
      "INFO:gurobipy:H    0     0                    1283.0000000  998.00000  22.2%     -    0s\n"
     ]
    },
    {
     "name": "stdout",
     "output_type": "stream",
     "text": [
      "     0     0  998.00000    0   32 1283.00000  998.00000  22.2%     -    0s\n"
     ]
    },
    {
     "name": "stderr",
     "output_type": "stream",
     "text": [
      "INFO:gurobipy:     0     0  998.00000    0   32 1283.00000  998.00000  22.2%     -    0s\n"
     ]
    },
    {
     "name": "stdout",
     "output_type": "stream",
     "text": [
      "H    0     0                    1282.0000000  998.00000  22.2%     -    0s\n"
     ]
    },
    {
     "name": "stderr",
     "output_type": "stream",
     "text": [
      "INFO:gurobipy:H    0     0                    1282.0000000  998.00000  22.2%     -    0s\n"
     ]
    },
    {
     "name": "stdout",
     "output_type": "stream",
     "text": [
      "     0     0  998.00000    0  115 1282.00000  998.00000  22.2%     -    0s\n"
     ]
    },
    {
     "name": "stderr",
     "output_type": "stream",
     "text": [
      "INFO:gurobipy:     0     0  998.00000    0  115 1282.00000  998.00000  22.2%     -    0s\n"
     ]
    },
    {
     "name": "stdout",
     "output_type": "stream",
     "text": [
      "H    0     0                    1281.0000000  998.00000  22.1%     -    0s\n"
     ]
    },
    {
     "name": "stderr",
     "output_type": "stream",
     "text": [
      "INFO:gurobipy:H    0     0                    1281.0000000  998.00000  22.1%     -    0s\n"
     ]
    },
    {
     "name": "stdout",
     "output_type": "stream",
     "text": [
      "     0     0  998.00000    0  134 1281.00000  998.00000  22.1%     -    0s\n"
     ]
    },
    {
     "name": "stderr",
     "output_type": "stream",
     "text": [
      "INFO:gurobipy:     0     0  998.00000    0  134 1281.00000  998.00000  22.1%     -    0s\n"
     ]
    },
    {
     "name": "stdout",
     "output_type": "stream",
     "text": [
      "     0     0  998.00000    0   65 1281.00000  998.00000  22.1%     -    0s\n"
     ]
    },
    {
     "name": "stderr",
     "output_type": "stream",
     "text": [
      "INFO:gurobipy:     0     0  998.00000    0   65 1281.00000  998.00000  22.1%     -    0s\n"
     ]
    },
    {
     "name": "stdout",
     "output_type": "stream",
     "text": [
      "     0     0  998.00000    0  110 1281.00000  998.00000  22.1%     -    0s\n"
     ]
    },
    {
     "name": "stderr",
     "output_type": "stream",
     "text": [
      "INFO:gurobipy:     0     0  998.00000    0  110 1281.00000  998.00000  22.1%     -    0s\n"
     ]
    },
    {
     "name": "stdout",
     "output_type": "stream",
     "text": [
      "     0     0  998.00000    0  120 1281.00000  998.00000  22.1%     -    0s\n"
     ]
    },
    {
     "name": "stderr",
     "output_type": "stream",
     "text": [
      "INFO:gurobipy:     0     0  998.00000    0  120 1281.00000  998.00000  22.1%     -    0s\n"
     ]
    },
    {
     "name": "stdout",
     "output_type": "stream",
     "text": [
      "     0     0  998.00000    0   72 1281.00000  998.00000  22.1%     -    0s\n"
     ]
    },
    {
     "name": "stderr",
     "output_type": "stream",
     "text": [
      "INFO:gurobipy:     0     0  998.00000    0   72 1281.00000  998.00000  22.1%     -    0s\n"
     ]
    },
    {
     "name": "stdout",
     "output_type": "stream",
     "text": [
      "     0     2  998.00000    0   66 1281.00000  998.00000  22.1%     -    1s\n"
     ]
    },
    {
     "name": "stderr",
     "output_type": "stream",
     "text": [
      "INFO:gurobipy:     0     2  998.00000    0   66 1281.00000  998.00000  22.1%     -    1s\n"
     ]
    },
    {
     "name": "stdout",
     "output_type": "stream",
     "text": [
      "H  126   104                    1275.0000000  998.00000  21.7%  46.7    1s\n"
     ]
    },
    {
     "name": "stderr",
     "output_type": "stream",
     "text": [
      "INFO:gurobipy:H  126   104                    1275.0000000  998.00000  21.7%  46.7    1s\n"
     ]
    },
    {
     "name": "stdout",
     "output_type": "stream",
     "text": [
      "H  192   150                    1272.0000000  998.00000  21.5%  37.9    1s\n"
     ]
    },
    {
     "name": "stderr",
     "output_type": "stream",
     "text": [
      "INFO:gurobipy:H  192   150                    1272.0000000  998.00000  21.5%  37.9    1s\n"
     ]
    },
    {
     "name": "stdout",
     "output_type": "stream",
     "text": [
      "H  292   193                    1258.0000000  998.00000  20.7%  29.1    1s\n"
     ]
    },
    {
     "name": "stderr",
     "output_type": "stream",
     "text": [
      "INFO:gurobipy:H  292   193                    1258.0000000  998.00000  20.7%  29.1    1s\n"
     ]
    },
    {
     "name": "stdout",
     "output_type": "stream",
     "text": [
      "H 1301   663                    1249.0000000 1004.49799  19.6%  18.5    1s\n"
     ]
    },
    {
     "name": "stderr",
     "output_type": "stream",
     "text": [
      "INFO:gurobipy:H 1301   663                    1249.0000000 1004.49799  19.6%  18.5    1s\n"
     ]
    },
    {
     "name": "stdout",
     "output_type": "stream",
     "text": [
      "H 2483  1067                    1248.0000000 1025.26040  17.8%  24.4    3s\n"
     ]
    },
    {
     "name": "stderr",
     "output_type": "stream",
     "text": [
      "INFO:gurobipy:H 2483  1067                    1248.0000000 1025.26040  17.8%  24.4    3s\n"
     ]
    },
    {
     "name": "stdout",
     "output_type": "stream",
     "text": [
      "H 2498  1026                    1246.0000000 1025.26040  17.7%  24.6    3s\n"
     ]
    },
    {
     "name": "stderr",
     "output_type": "stream",
     "text": [
      "INFO:gurobipy:H 2498  1026                    1246.0000000 1025.26040  17.7%  24.6    3s\n"
     ]
    },
    {
     "name": "stdout",
     "output_type": "stream",
     "text": [
      "H 2551   978                    1245.0000000 1025.26040  17.6%  25.3    3s\n"
     ]
    },
    {
     "name": "stderr",
     "output_type": "stream",
     "text": [
      "INFO:gurobipy:H 2551   978                    1245.0000000 1025.26040  17.6%  25.3    3s\n"
     ]
    },
    {
     "name": "stdout",
     "output_type": "stream",
     "text": [
      "H 2563   936                    1239.0000000 1025.26040  17.3%  25.3    3s\n"
     ]
    },
    {
     "name": "stderr",
     "output_type": "stream",
     "text": [
      "INFO:gurobipy:H 2563   936                    1239.0000000 1025.26040  17.3%  25.3    3s\n"
     ]
    },
    {
     "name": "stdout",
     "output_type": "stream",
     "text": [
      "  3240   886 1108.00000   25   72 1239.00000 1026.00000  17.2%  30.2    5s\n"
     ]
    },
    {
     "name": "stderr",
     "output_type": "stream",
     "text": [
      "INFO:gurobipy:  3240   886 1108.00000   25   72 1239.00000 1026.00000  17.2%  30.2    5s\n"
     ]
    },
    {
     "name": "stdout",
     "output_type": "stream",
     "text": [
      "*11081  1321              33    1238.0000000 1108.00000  10.5%  30.7    8s\n"
     ]
    },
    {
     "name": "stderr",
     "output_type": "stream",
     "text": [
      "INFO:gurobipy:*11081  1321              33    1238.0000000 1108.00000  10.5%  30.7    8s\n"
     ]
    },
    {
     "name": "stdout",
     "output_type": "stream",
     "text": [
      " 14178  1503 infeasible   31      1238.00000 1115.00000  9.94%  30.1   10s\n"
     ]
    },
    {
     "name": "stderr",
     "output_type": "stream",
     "text": [
      "INFO:gurobipy: 14178  1503 infeasible   31      1238.00000 1115.00000  9.94%  30.1   10s\n"
     ]
    },
    {
     "name": "stdout",
     "output_type": "stream",
     "text": [
      "*14674  1175              33    1234.0000000 1125.00000  8.83%  31.5   10s\n"
     ]
    },
    {
     "name": "stderr",
     "output_type": "stream",
     "text": [
      "INFO:gurobipy:*14674  1175              33    1234.0000000 1125.00000  8.83%  31.5   10s\n"
     ]
    },
    {
     "name": "stdout",
     "output_type": "stream",
     "text": [
      "\n"
     ]
    },
    {
     "name": "stderr",
     "output_type": "stream",
     "text": [
      "INFO:gurobipy:\n"
     ]
    },
    {
     "name": "stdout",
     "output_type": "stream",
     "text": [
      "Cutting planes:\n"
     ]
    },
    {
     "name": "stderr",
     "output_type": "stream",
     "text": [
      "INFO:gurobipy:Cutting planes:\n"
     ]
    },
    {
     "name": "stdout",
     "output_type": "stream",
     "text": [
      "  Gomory: 69\n"
     ]
    },
    {
     "name": "stderr",
     "output_type": "stream",
     "text": [
      "INFO:gurobipy:  Gomory: 69\n"
     ]
    },
    {
     "name": "stdout",
     "output_type": "stream",
     "text": [
      "  Cover: 31\n"
     ]
    },
    {
     "name": "stderr",
     "output_type": "stream",
     "text": [
      "INFO:gurobipy:  Cover: 31\n"
     ]
    },
    {
     "name": "stdout",
     "output_type": "stream",
     "text": [
      "  Implied bound: 34\n"
     ]
    },
    {
     "name": "stderr",
     "output_type": "stream",
     "text": [
      "INFO:gurobipy:  Implied bound: 34\n"
     ]
    },
    {
     "name": "stdout",
     "output_type": "stream",
     "text": [
      "  Projected implied bound: 2\n"
     ]
    },
    {
     "name": "stderr",
     "output_type": "stream",
     "text": [
      "INFO:gurobipy:  Projected implied bound: 2\n"
     ]
    },
    {
     "name": "stdout",
     "output_type": "stream",
     "text": [
      "  Clique: 1\n"
     ]
    },
    {
     "name": "stderr",
     "output_type": "stream",
     "text": [
      "INFO:gurobipy:  Clique: 1\n"
     ]
    },
    {
     "name": "stdout",
     "output_type": "stream",
     "text": [
      "  MIR: 172\n"
     ]
    },
    {
     "name": "stderr",
     "output_type": "stream",
     "text": [
      "INFO:gurobipy:  MIR: 172\n"
     ]
    },
    {
     "name": "stdout",
     "output_type": "stream",
     "text": [
      "  StrongCG: 15\n"
     ]
    },
    {
     "name": "stderr",
     "output_type": "stream",
     "text": [
      "INFO:gurobipy:  StrongCG: 15\n"
     ]
    },
    {
     "name": "stdout",
     "output_type": "stream",
     "text": [
      "  Flow cover: 367\n"
     ]
    },
    {
     "name": "stderr",
     "output_type": "stream",
     "text": [
      "INFO:gurobipy:  Flow cover: 367\n"
     ]
    },
    {
     "name": "stdout",
     "output_type": "stream",
     "text": [
      "  Inf proof: 14\n"
     ]
    },
    {
     "name": "stderr",
     "output_type": "stream",
     "text": [
      "INFO:gurobipy:  Inf proof: 14\n"
     ]
    },
    {
     "name": "stdout",
     "output_type": "stream",
     "text": [
      "  Mod-K: 1\n"
     ]
    },
    {
     "name": "stderr",
     "output_type": "stream",
     "text": [
      "INFO:gurobipy:  Mod-K: 1\n"
     ]
    },
    {
     "name": "stdout",
     "output_type": "stream",
     "text": [
      "  RLT: 1\n"
     ]
    },
    {
     "name": "stderr",
     "output_type": "stream",
     "text": [
      "INFO:gurobipy:  RLT: 1\n"
     ]
    },
    {
     "name": "stdout",
     "output_type": "stream",
     "text": [
      "  Relax-and-lift: 74\n"
     ]
    },
    {
     "name": "stderr",
     "output_type": "stream",
     "text": [
      "INFO:gurobipy:  Relax-and-lift: 74\n"
     ]
    },
    {
     "name": "stdout",
     "output_type": "stream",
     "text": [
      "\n"
     ]
    },
    {
     "name": "stderr",
     "output_type": "stream",
     "text": [
      "INFO:gurobipy:\n"
     ]
    },
    {
     "name": "stdout",
     "output_type": "stream",
     "text": [
      "Explored 16209 nodes (531651 simplex iterations) in 11.42 seconds (7.48 work units)\n"
     ]
    },
    {
     "name": "stderr",
     "output_type": "stream",
     "text": [
      "INFO:gurobipy:Explored 16209 nodes (531651 simplex iterations) in 11.42 seconds (7.48 work units)\n"
     ]
    },
    {
     "name": "stdout",
     "output_type": "stream",
     "text": [
      "Thread count was 12 (of 12 available processors)\n"
     ]
    },
    {
     "name": "stderr",
     "output_type": "stream",
     "text": [
      "INFO:gurobipy:Thread count was 12 (of 12 available processors)\n"
     ]
    },
    {
     "name": "stdout",
     "output_type": "stream",
     "text": [
      "\n"
     ]
    },
    {
     "name": "stderr",
     "output_type": "stream",
     "text": [
      "INFO:gurobipy:\n"
     ]
    },
    {
     "name": "stdout",
     "output_type": "stream",
     "text": [
      "Solution count 10: 1234 1238 1239 ... 1275\n"
     ]
    },
    {
     "name": "stderr",
     "output_type": "stream",
     "text": [
      "INFO:gurobipy:Solution count 10: 1234 1238 1239 ... 1275\n"
     ]
    },
    {
     "name": "stdout",
     "output_type": "stream",
     "text": [
      "\n"
     ]
    },
    {
     "name": "stderr",
     "output_type": "stream",
     "text": [
      "INFO:gurobipy:\n"
     ]
    },
    {
     "name": "stdout",
     "output_type": "stream",
     "text": [
      "Optimal solution found (tolerance 1.00e-04)\n"
     ]
    },
    {
     "name": "stderr",
     "output_type": "stream",
     "text": [
      "INFO:gurobipy:Optimal solution found (tolerance 1.00e-04)\n"
     ]
    },
    {
     "name": "stdout",
     "output_type": "stream",
     "text": [
      "Best objective 1.234000000000e+03, best bound 1.234000000000e+03, gap 0.0000%\n"
     ]
    },
    {
     "name": "stderr",
     "output_type": "stream",
     "text": [
      "INFO:gurobipy:Best objective 1.234000000000e+03, best bound 1.234000000000e+03, gap 0.0000%\n"
     ]
    },
    {
     "data": {
      "image/png": "[encoded data removed]",
      "text/plain": [
       "<Figure size 1200x600 with 1 Axes>"
      ]
     },
     "metadata": {},
     "output_type": "display_data"
    }
   ],
   "source": [
    "parameters = load_parameters(\"configs/milp.toml\")\n",
    "jobShopEnv = load_job_shop_env(parameters['instance'].get('problem_instance'))\n",
    "\n",
    "results, jobShopEnv = run_MILP(jobShopEnv, **parameters)\n",
    "plot_gantt_chart(jobShopEnv);"
   ]
  },
  {
   "cell_type": "markdown",
   "id": "bcb5011b-67cf-4254-bf43-70179619d5a1",
   "metadata": {},
   "source": [
    "#### FJSP_DRL"
   ]
  },
  {
   "cell_type": "code",
   "execution_count": 14,
   "id": "809cd371-9d29-49b1-a9f9-0e28b01d9764",
   "metadata": {},
   "outputs": [
    {
     "name": "stderr",
     "output_type": "stream",
     "text": [
      "INFO:root:Trained policy loaded from /saved_models/train_20240314_192906/song_10_5.pt.\n"
     ]
    },
    {
     "name": "stdout",
     "output_type": "stream",
     "text": [
      "\n",
      "loading saved model: C:\\Users\\s143036\\PycharmProjects\\Job_Shop_Scheduling_Benchmark_Environments_and_Instances\\solution_methods\\FJSP_DRL/saved_models/train_20240314_192906/song_10_5.pt\n"
     ]
    },
    {
     "name": "stderr",
     "output_type": "stream",
     "text": [
      "INFO:root:Makespan: 38\n"
     ]
    },
    {
     "data": {
      "image/png": "[encoded data removed]",
      "text/plain": [
       "<Figure size 1200x600 with 1 Axes>"
      ]
     },
     "metadata": {},
     "output_type": "display_data"
    }
   ],
   "source": [
    "parameters = load_parameters(\"configs/fjsp_drl.toml\")\n",
    "jobShopEnv = load_job_shop_env(parameters['test_parameters'].get('problem_instance'))\n",
    "\n",
    "makespan, jobShopEnv = run_FJSP_DRL(jobShopEnv, **parameters)\n",
    "plot_gantt_chart(jobShopEnv);"
   ]
  }
 ],
 "metadata": {
  "kernelspec": {
   "display_name": "Python 3 (ipykernel)",
   "language": "python",
   "name": "python3"
  },
  "language_info": {
   "codemirror_mode": {
    "name": "ipython",
    "version": 3
   },
   "file_extension": ".py",
   "mimetype": "text/x-python",
   "name": "python",
   "nbconvert_exporter": "python",
   "pygments_lexer": "ipython3",
   "version": "3.11.2"
  }
 },
 "nbformat": 4,
 "nbformat_minor": 5
}
