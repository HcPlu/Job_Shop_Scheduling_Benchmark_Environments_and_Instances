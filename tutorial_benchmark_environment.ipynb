{
 "cells": [
  {
   "cell_type": "markdown",
   "id": "45746a85-ef2c-4df0-82e9-ed8a901eba84",
   "metadata": {},
   "source": [
    "# Job Shop Scheduling Benchmarking Environment"
   ]
  },
  {
   "cell_type": "markdown",
   "id": "79883758-0bf5-4e83-bd9c-9df3994b7f29",
   "metadata": {},
   "source": [
    "This notebook introduces an open-source GitHub repository designed to benchmark and solve a wide range of machine scheduling problems, with a focus on job shop scheduling (JSP) and related problem types. Developed to address the long-standing need for a comprehensive testing environment, this resource supports various problem configurations, including classical Job Shops (JSP), Flow Shops (FSP), Flexible Job Shops (FJSP), Assembly scheduling with dependencies (FAJSP), and Flexible Job Shops with Sequence-Dependent Setup Times (FJSP-SDST).\n",
    "\n",
    "This repository includes a diverse set of approaches, from traditional heuristics and meta-heuristics to exact solutions and advanced deep reinforcement learning techniques. With this environment, researchers, practitioners, and machine scheduling enthusiasts can experiment with and benchmark their methods, contributing to ongoing advancements in operations research and machine learning for scheduling applications.\n",
    "\n",
    "Let’s start by importing the required packages:"
   ]
  },
  {
   "cell_type": "code",
   "execution_count": 9,
   "id": "b5db17f9-d982-46c7-b8e0-b770edaeee61",
   "metadata": {},
   "outputs": [],
   "source": [
    "import random\n",
    "\n",
    "from data_parsers.parser_fjsp import parse_fjsp\n",
    "from solution_methods.helper_functions import load_job_shop_env\n",
    "from solution_methods.GA.src.initialization import initialize_run\n",
    "from solution_methods.GA.run_GA import run_GA\n",
    "from scheduling_environment.jobShop import JobShop\n",
    "from plotting.drawer import plot_gantt_chart"
   ]
  },
  {
   "cell_type": "markdown",
   "id": "7b914394-1416-43a6-b822-ac360bf82cff",
   "metadata": {},
   "source": [
    "#### Environment Configuration"
   ]
  },
  {
   "cell_type": "markdown",
   "id": "8b1e913a-3677-4278-8cb6-cecb587566ff",
   "metadata": {},
   "source": [
    "We start by configuring the environment. For this, we provide a set of parsers that can be used to parse data files from various benchmarking instances from the literature to configure the JobShop environment. As many different sources of instances exist, the parsers parse the information from the data format into the data objectives from the benchmarking environment. You can find the parsers in the 'data_parsers' folder and can use them as follows:"
   ]
  },
  {
   "cell_type": "markdown",
   "id": "39f5c636-bf13-4fd2-b54c-7e185c4207f4",
   "metadata": {},
   "source": [
    "##### Instance Parsing:"
   ]
  },
  {
   "cell_type": "code",
   "execution_count": 10,
   "id": "cfc80ec5-a542-48ce-b743-1fcf0f9c8e66",
   "metadata": {},
   "outputs": [],
   "source": [
    "jobShopEnv = JobShop()\n",
    "jobShopEnv =  parse_fjsp(jobShopEnv, '/fjsp/1_brandimarte/Mk01.fjs')"
   ]
  },
  {
   "cell_type": "markdown",
   "id": "b88f0afa-ef66-4ece-97fa-5980c99e85de",
   "metadata": {},
   "source": [
    "We also provide a 'helper function', that creates the JobShop() object, and selects based on the naming of the problem instance the right parser to be used:"
   ]
  },
  {
   "cell_type": "code",
   "execution_count": 11,
   "id": "8268e82d-935b-476e-bb45-c003c90c3f1b",
   "metadata": {},
   "outputs": [],
   "source": [
    "jobShopEnv = load_job_shop_env('/fjsp/1_brandimarte/Mk01.fjs')"
   ]
  },
  {
   "cell_type": "markdown",
   "id": "37c8335a-5f60-4071-bbaf-97eb9888611f",
   "metadata": {},
   "source": [
    "##### Object ineractions:"
   ]
  },
  {
   "cell_type": "markdown",
   "id": "7557fcf3-82e5-4538-b0e3-e40bfcdb4559",
   "metadata": {},
   "source": [
    "We can now interact with the jobShopEnv to inspect its job, operation and machine objects, and make use of scheduling operators to schedule different operations within the environment. "
   ]
  },
  {
   "cell_type": "code",
   "execution_count": 12,
   "id": "d613d163-d710-4450-b82f-e39e1d04d0e8",
   "metadata": {},
   "outputs": [
    {
     "name": "stdout",
     "output_type": "stream",
     "text": [
      "Job Shop Environment:\n",
      "<JobShop(instance='/fjsp/1_brandimarte/Mk01.fjs', jobs=10, operations=55, machines=6)>\n"
     ]
    }
   ],
   "source": [
    "# Display the Job Shop Environment information\n",
    "print('Job Shop Environment:')\n",
    "print(jobShopEnv)"
   ]
  },
  {
   "cell_type": "code",
   "execution_count": 13,
   "id": "9365c11d-a1ff-46b4-a3dd-742d83b1a794",
   "metadata": {},
   "outputs": [
    {
     "name": "stdout",
     "output_type": "stream",
     "text": [
      "With the following Jobs:\n",
      "[<Job(job_id=0)>, <Job(job_id=1)>, <Job(job_id=2)>, <Job(job_id=3)>, <Job(job_id=4)>, <Job(job_id=5)>, <Job(job_id=6)>, <Job(job_id=7)>, <Job(job_id=8)>, <Job(job_id=9)>]\n"
     ]
    }
   ],
   "source": [
    "# Display the list of jobs in the environment\n",
    "print('With the following Jobs:')\n",
    "print(jobShopEnv.jobs)"
   ]
  },
  {
   "cell_type": "code",
   "execution_count": 14,
   "id": "26c3c276-6ac0-4925-b1bb-b926d628b890",
   "metadata": {},
   "outputs": [
    {
     "name": "stdout",
     "output_type": "stream",
     "text": [
      "Where the first job (job_id=0) has the following operations:\n",
      "[<Operation(job_id=0, operation_id=0)>, <Operation(job_id=0, operation_id=1)>, <Operation(job_id=0, operation_id=2)>, <Operation(job_id=0, operation_id=3)>, <Operation(job_id=0, operation_id=4)>, <Operation(job_id=0, operation_id=5)>]\n"
     ]
    }
   ],
   "source": [
    "# Display the operations of the first job (job_id=0)\n",
    "print('Where the first job (job_id=0) has the following operations:')\n",
    "job = jobShopEnv.get_job(job_id=0)\n",
    "print(job.operations)"
   ]
  },
  {
   "cell_type": "markdown",
   "id": "1dc45fc9-7697-4860-b457-971b6c838467",
   "metadata": {},
   "source": [
    "#### Manual and Random Scheduling"
   ]
  },
  {
   "cell_type": "code",
   "execution_count": null,
   "id": "0c8f9be0-ad82-4065-867d-3164e414e137",
   "metadata": {},
   "outputs": [],
   "source": []
  },
  {
   "cell_type": "code",
   "execution_count": 15,
   "id": "5de2f1ef-3e09-46bb-9ee8-9143e3fc1426",
   "metadata": {},
   "outputs": [
    {
     "name": "stdout",
     "output_type": "stream",
     "text": [
      "[<Operation(job_id=0, operation_id=0)>, <Operation(job_id=1, operation_id=6)>, <Operation(job_id=2, operation_id=11)>, <Operation(job_id=3, operation_id=16)>, <Operation(job_id=4, operation_id=21)>, <Operation(job_id=5, operation_id=27)>, <Operation(job_id=6, operation_id=33)>, <Operation(job_id=7, operation_id=38)>, <Operation(job_id=8, operation_id=43)>, <Operation(job_id=9, operation_id=49)>]\n"
     ]
    }
   ],
   "source": [
    "# Configure the operations that are available for scheduling:\n",
    "jobShopEnv.update_operations_available_for_scheduling()\n",
    "print(jobShopEnv.operations_available_for_scheduling)"
   ]
  },
  {
   "cell_type": "code",
   "execution_count": null,
   "id": "ea2695f3-f9dc-4b48-8c4e-e48e84ba879d",
   "metadata": {},
   "outputs": [],
   "source": [
    "# A simple scheduler that \n",
    "\n",
    "while len(jobShopEnv.operations_to_be_scheduled) > 0:\n",
    "    operation = random.choice(jobShopEnv.operations_available_for_scheduling)\n",
    "    machine_id = random.choice(list(operation.processing_times.keys()))\n",
    "    duration = operation.processing_times[machine_id]\n",
    "    jobShopEnv.schedule_operation_on_machine(operation, machine_id, duration)\n",
    "    jobShopEnv.update_operations_available_for_scheduling()\n",
    "    print('scheduled_operation')\n",
    "\n",
    "plot_gantt_chart(jobShopEnv);"
   ]
  },
  {
   "cell_type": "markdown",
   "id": "8e5e4dd9-5db1-40e0-beb8-d618983dfd13",
   "metadata": {},
   "source": [
    "Other scheduling options are provided, such as:\n",
    "\n",
    "- jobShopEnv.schedule_operation_with_backfilling(operation, machine_id, duration)\n",
    "- jobShopEnv.schedule_operation_on_machine(blabla todo)\n",
    "- jobShopEnv.schedule_operation_on_machine_at_time(blablabla TODO)\n"
   ]
  },
  {
   "cell_type": "markdown",
   "id": "fe11b158-68db-480d-a5da-dec6a3dff820",
   "metadata": {},
   "source": [
    "#### Genetic Algorithm    "
   ]
  },
  {
   "cell_type": "code",
   "execution_count": null,
   "id": "189a1d39-2988-4ba0-a881-572173a43098",
   "metadata": {},
   "outputs": [],
   "source": [
    "parameters = {\"instance\": {\"problem_instance\": \"custom_problem_instance\"},\n",
    "             \"algorithm\": {\"population_size\": 10, \"ngen\": 10, \"seed\": 5, \"cr\": 0.7, \"indpb\": 0.2, 'multiprocessing': True},\n",
    "             \"output\": {\"logbook\": True}\n",
    "             }\n",
    "\n",
    "jobShopEnv = load_job_shop_env('/fjsp/1_brandimarte/Mk01.fjs')\n",
    "population, toolbox, stats, hof = initialize_run(jobShopEnv, parameters)\n",
    "makespan, jobShopEnv = run_GA(jobShopEnv, population, toolbox, stats, hof, **parameters)\n",
    "\n",
    "plt = plot_gantt_chart(jobShopEnv)\n",
    "plt.show()"
   ]
  }
 ],
 "metadata": {
  "kernelspec": {
   "display_name": "Python 3 (ipykernel)",
   "language": "python",
   "name": "python3"
  },
  "language_info": {
   "codemirror_mode": {
    "name": "ipython",
    "version": 3
   },
   "file_extension": ".py",
   "mimetype": "text/x-python",
   "name": "python",
   "nbconvert_exporter": "python",
   "pygments_lexer": "ipython3",
   "version": "3.11.2"
  }
 },
 "nbformat": 4,
 "nbformat_minor": 5
}
